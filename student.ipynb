{
 "cells": [
  {
   "cell_type": "markdown",
   "metadata": {},
   "source": [
    "## Final Project Submission\n",
    "\n",
    "Please fill out:\n",
    "* Student name: Winfred Kinya Bundi.\n",
    "                Carol Mundia.\n",
    "                Paul Mundia.\n",
    "                Dennis Mwenda.\n",
    "* Student pace: Full time Hybrid\n",
    "* Scheduled project review date/time:2/05/2024 \n",
    "* Instructor name: Mwikali Maryanne.\n",
    "* Blog post URL:https://github.com/winnycodegurl/dsc-phase-2-projectgroup4\n"
   ]
  },
  {
   "cell_type": "code",
   "execution_count": null,
   "metadata": {},
   "outputs": [],
   "source": [
    "# Your code here - remember to use markdown cells for comments as well!"
   ]
  }
 ],
 "metadata": {
  "kernelspec": {
   "display_name": "Python 3",
   "language": "python",
   "name": "python3"
  },
  "language_info": {
   "codemirror_mode": {
    "name": "ipython",
    "version": 3
   },
   "file_extension": ".py",
   "mimetype": "text/x-python",
   "name": "python",
   "nbconvert_exporter": "python",
   "pygments_lexer": "ipython3",
   "version": "3.6.4"
  }
 },
 "nbformat": 4,
 "nbformat_minor": 2
}
